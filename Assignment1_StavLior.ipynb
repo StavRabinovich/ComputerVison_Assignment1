{
  "nbformat": 4,
  "nbformat_minor": 0,
  "metadata": {
    "colab": {
      "name": "HW1_StavLior.ipynb",
      "provenance": [],
      "collapsed_sections": [
        "Mv7wWd6D51VQ",
        "wtLnRun5r7kF",
        "YklE0qezthH1",
        "Z9Ju1dBPt6vh",
        "OLnPXMsbt6Up",
        "_6i8Ofjct6gC",
        "SYRwWqWj009F",
        "83iGjfiA1kTV",
        "ph1goPp3S07k",
        "U9eDXRNf5j3P",
        "BcdWBDThM5AQ",
        "KfehYjIc6IWi",
        "KgwTOOCYFfd-",
        "tn_XX0mU6U9l",
        "ItVCEGZL6sRH"
      ]
    },
    "kernelspec": {
      "name": "python3",
      "display_name": "Python 3"
    },
    "language_info": {
      "name": "python"
    },
    "accelerator": "GPU"
  },
  "cells": [
    {
      "cell_type": "markdown",
      "metadata": {
        "id": "6Oej4-lT5jOI"
      },
      "source": [
        "# **HW1**"
      ]
    },
    {
      "cell_type": "markdown",
      "metadata": {
        "id": "Mv7wWd6D51VQ"
      },
      "source": [
        "#### **Imports**"
      ]
    },
    {
      "cell_type": "code",
      "metadata": {
        "id": "rTZkVsSj5Sm8"
      },
      "source": [
        "import cv2\n",
        "import math\n",
        "import random\n",
        "\n",
        "import numpy as np \n",
        "from numpy            import pi \n",
        "from numpy.random     import MT19937, RandomState, SeedSequence\n",
        "\n",
        "from matplotlib       import pyplot as plt\n",
        "from scipy.signal     import  convolve2d\n",
        "from sklearn.metrics  import mean_squared_error as mse\n",
        "from PIL              import Image\n",
        "from torch.utils.data import DataLoader, Dataset\n",
        "\n",
        "import keras\n",
        "from keras.datasets   import mnist\n",
        "\n",
        "%matplotlib inline"
      ],
      "execution_count": 1,
      "outputs": []
    },
    {
      "cell_type": "markdown",
      "metadata": {
        "id": "5tjb8sOk6VMe"
      },
      "source": [
        "## **Task \\#1 :  MNIST 0-100**"
      ]
    },
    {
      "cell_type": "markdown",
      "metadata": {
        "id": "RgksQAha6zud"
      },
      "source": [
        "#### **Import**\n",
        "x_{train/test} will hold the images\\\n",
        "y_{train/test} will hold the labels."
      ]
    },
    {
      "cell_type": "code",
      "metadata": {
        "id": "R8YWay1G6U0_"
      },
      "source": [
        "(x_train, y_train), (x_test, y_test) = mnist.load_data() "
      ],
      "execution_count": 2,
      "outputs": []
    },
    {
      "cell_type": "markdown",
      "metadata": {
        "id": "qHsrtfBfn1lE"
      },
      "source": [
        "### **Printing By Target**\n",
        "Here we will print 5 samples of each number."
      ]
    },
    {
      "cell_type": "code",
      "metadata": {
        "id": "Y7tnm3yW7Ly3",
        "colab": {
          "base_uri": "https://localhost:8080/",
          "height": 0
        },
        "outputId": "abc3e6dd-dbcf-4065-bc8f-d7c225470e81"
      },
      "source": [
        "# Prints one target\n",
        "def print_by_target(x_train, y_train, target, amount=5):\n",
        "  print('\\n' + str(amount) + \" samples of \" + str(target)) # Header\n",
        "  fig = plt.figure(figsize=(10, 8))\n",
        "  for i in range(amount):\n",
        "    idx = random.randint(1, 60000)\n",
        "    while y_train[idx] != target:\n",
        "      idx = random.randint(1, 60000)\n",
        "    fig.add_subplot(1, 5, i+1)\n",
        "    plt.imshow(x_train[idx])\n",
        "  plt.show()\n",
        "\n",
        "# All targets\n",
        "def print_targets(x_train, y_train):\n",
        "  for i in range(10):\n",
        "    print_by_target(x_train, y_train, i)\n",
        "\n",
        "print_targets(x_train, y_train)"
      ],
      "execution_count": 3,
      "outputs": [
        {
          "output_type": "stream",
          "text": [
            "\n",
            "5 samples of 0\n"
          ],
          "name": "stdout"
        },
        {
          "output_type": "display_data",
          "data": {
            "image/png": "[encoded data removed]",
            "text/plain": [
              "<Figure size 720x576 with 5 Axes>"
            ]
          },
          "metadata": {
            "tags": [],
            "needs_background": "light"
          }
        },
        {
          "output_type": "stream",
          "text": [
            "\n",
            "5 samples of 1\n"
          ],
          "name": "stdout"
        },
        {
          "output_type": "display_data",
          "data": {
            "image/png": "[encoded data removed]",
            "text/plain": [
              "<Figure size 720x576 with 5 Axes>"
            ]
          },
          "metadata": {
            "tags": [],
            "needs_background": "light"
          }
        },
        {
          "output_type": "stream",
          "text": [
            "\n",
            "5 samples of 2\n"
          ],
          "name": "stdout"
        },
        {
          "output_type": "display_data",
          "data": {
            "image/png": "[encoded data removed]",
            "text/plain": [
              "<Figure size 720x576 with 5 Axes>"
            ]
          },
          "metadata": {
            "tags": [],
            "needs_background": "light"
          }
        },
        {
          "output_type": "stream",
          "text": [
            "\n",
            "5 samples of 3\n"
          ],
          "name": "stdout"
        },
        {
          "output_type": "display_data",
          "data": {
            "image/png": "[encoded data removed]",
            "text/plain": [
              "<Figure size 720x576 with 5 Axes>"
            ]
          },
          "metadata": {
            "tags": [],
            "needs_background": "light"
          }
        },
        {
          "output_type": "stream",
          "text": [
            "\n",
            "5 samples of 4\n"
          ],
          "name": "stdout"
        },
        {
          "output_type": "display_data",
          "data": {
            "image/png": "[encoded data removed]",
            "text/plain": [
              "<Figure size 720x576 with 5 Axes>"
            ]
          },
          "metadata": {
            "tags": [],
            "needs_background": "light"
          }
        },
        {
          "output_type": "stream",
          "text": [
            "\n",
            "5 samples of 5\n"
          ],
          "name": "stdout"
        },
        {
          "output_type": "display_data",
          "data": {
            "image/png": "[encoded data removed]",
            "text/plain": [
              "<Figure size 720x576 with 5 Axes>"
            ]
          },
          "metadata": {
            "tags": [],
            "needs_background": "light"
          }
        },
        {
          "output_type": "stream",
          "text": [
            "\n",
            "5 samples of 6\n"
          ],
          "name": "stdout"
        },
        {
          "output_type": "display_data",
          "data": {
            "image/png": "[encoded data removed]",
            "text/plain": [
              "<Figure size 720x576 with 5 Axes>"
            ]
          },
          "metadata": {
            "tags": [],
            "needs_background": "light"
          }
        },
        {
          "output_type": "stream",
          "text": [
            "\n",
            "5 samples of 7\n"
          ],
          "name": "stdout"
        },
        {
          "output_type": "display_data",
          "data": {
            "image/png": "[encoded data removed]",
            "text/plain": [
              "<Figure size 720x576 with 5 Axes>"
            ]
          },
          "metadata": {
            "tags": [],
            "needs_background": "light"
          }
        },
        {
          "output_type": "stream",
          "text": [
            "\n",
            "5 samples of 8\n"
          ],
          "name": "stdout"
        },
        {
          "output_type": "display_data",
          "data": {
            "image/png": "[encoded data removed]",
            "text/plain": [
              "<Figure size 720x576 with 5 Axes>"
            ]
          },
          "metadata": {
            "tags": [],
            "needs_background": "light"
          }
        },
        {
          "output_type": "stream",
          "text": [
            "\n",
            "5 samples of 9\n"
          ],
          "name": "stdout"
        },
        {
          "output_type": "display_data",
          "data": {
            "image/png": "[encoded data removed]",
            "text/plain": [
              "<Figure size 720x576 with 5 Axes>"
            ]
          },
          "metadata": {
            "tags": [],
            "needs_background": "light"
          }
        }
      ]
    },
    {
      "cell_type": "markdown",
      "metadata": {
        "id": "G5kKJYehD4w_"
      },
      "source": [
        "### **3 Digits MNist**"
      ]
    },
    {
      "cell_type": "code",
      "metadata": {
        "id": "YExoh0V7GTnX"
      },
      "source": [
        "# make a new 3 digits number\n",
        "def number_3dig(imgs, targets): #imgs as tupe\n",
        "  new_img = np.concatenate(imgs, axis=1)\n",
        "  new_target = \"\" + str(targets[0]) + str(targets[1]) + str(targets[2]) \n",
        "  return new_img, new_target"
      ],
      "execution_count": 4,
      "outputs": []
    },
    {
      "cell_type": "markdown",
      "metadata": {
        "id": "wtLnRun5r7kF"
      },
      "source": [
        "##### Example"
      ]
    },
    {
      "cell_type": "code",
      "metadata": {
        "colab": {
          "base_uri": "https://localhost:8080/",
          "height": 0
        },
        "id": "ZaPPRTW-HOw3",
        "outputId": "eb539147-075a-4f0f-9dd5-d1a934699268"
      },
      "source": [
        "# Example\n",
        "imgs = (x_train[0], x_train[1], x_train[2])\n",
        "targets = [y_train[0], y_train[1], y_train[2]]\n",
        "new_imgs, new_target = number_3dig(imgs, targets)\n",
        "print(new_target)\n",
        "plt.imshow(new_imgs)\n",
        "plt.show()"
      ],
      "execution_count": 5,
      "outputs": [
        {
          "output_type": "stream",
          "text": [
            "504\n"
          ],
          "name": "stdout"
        },
        {
          "output_type": "display_data",
          "data": {
            "image/png": "[encoded data removed]",
            "text/plain": [
              "<Figure size 432x288 with 1 Axes>"
            ]
          },
          "metadata": {
            "tags": [],
            "needs_background": "light"
          }
        }
      ]
    },
    {
      "cell_type": "markdown",
      "metadata": {
        "id": "6F64yWx6sCYS"
      },
      "source": [
        "#### **Filter Functions**\n",
        "In this task, we will use previous filters.\n",
        "\n",
        "We chose to use the filters of:\n",
        "* **Gaussian-Blur**\n",
        "* **Median Blur**\n",
        "* **Sharpening**\n",
        "* **Rotation** (limited angles)\n",
        "\n",
        "The decided to not use some filters from the following resons:\n",
        "* **Flip (Vertically or Horizontally)** - Flipping some data might be mix with another data (like the number 9 could look like 6, or 2 could look like 5).\n",
        "* **Zoom** - some data might mix with another data (like the numbers 9,6 could look like 0).\n",
        "* **Crop** - some data might mix with another data (like the numbers 8 could look like 3 or 7 could look like 1).\n",
        "* **Limited Rotation** - From certian angle, the rotation will look like flipping"
      ]
    },
    {
      "cell_type": "markdown",
      "metadata": {
        "id": "YklE0qezthH1"
      },
      "source": [
        "##### Helpers"
      ]
    },
    {
      "cell_type": "code",
      "metadata": {
        "id": "3LgQ9mBxtj_t"
      },
      "source": [
        "# Helping matrixes\n",
        "sobelX = np.asarray(([-1, 0, 1], [-2, 0, 2], [-1, 0, 1]), dtype=np.float32) * 1/16\n",
        "sobelY = np.asarray(([-1,-2,-1], [0, 0, 0], [1, 2, 1]), dtype=np.float32) * 1/16\n",
        "laplacian = np.array(([0, -1, 0], [-1, 5, -1], [0, -1, 0]), dtype='int') * 0.25 \n",
        "\n",
        "# Calculates padding\n",
        "def calculate_padding_single_dim(dim_in, dim_out, kernel_size):\n",
        "  return  int(np.ceil((dim_out - dim_in + kernel_size) /2 ) -1)  "
      ],
      "execution_count": 6,
      "outputs": []
    },
    {
      "cell_type": "markdown",
      "metadata": {
        "id": "iMok1UzOtkYB"
      },
      "source": [
        "##### **Gaussian-Blur**"
      ]
    },
    {
      "cell_type": "code",
      "metadata": {
        "id": "Oa2xzjf-t9b5"
      },
      "source": [
        "# Gaussian-Blur's filter \n",
        "def get_gaussian_filter(kernel_size, sigma):\n",
        "  g_filter = np.zeros((kernel_size, kernel_size), np.float32)\n",
        "  x, y = kernel_size // 2 , kernel_size // 2\n",
        "  for i in range(-x, x+1):\n",
        "    for j in range(-y, y+1):\n",
        "      x1 = 2 * pi *(sigma**2)\n",
        "      x2 = np.exp(-(x**2 + y**2)/(2* sigma**2))\n",
        "      g_filter[i+x, j+y] = (1/x1)*x2\n",
        "  return g_filter\n",
        "\n",
        "# Calculation\n",
        "def gaussian_blur(img, kernel_size, sigma):\n",
        "  g_filter = get_gaussian_filter(kernel_size, sigma)\n",
        "  new_img = convolve2d(img, g_filter, mode='same')\n",
        "  return new_img"
      ],
      "execution_count": 7,
      "outputs": []
    },
    {
      "cell_type": "markdown",
      "metadata": {
        "id": "Z9Ju1dBPt6vh"
      },
      "source": [
        "##### **Median-Blur**"
      ]
    },
    {
      "cell_type": "code",
      "metadata": {
        "id": "r6OtPPSRuMVg"
      },
      "source": [
        "def median_blur(img,kernel_size):\n",
        "  x, y = img.shape\n",
        "  new_img = np.zeros_like(img)\n",
        "  pad_y = calculate_padding_single_dim(y, y, kernel_size)\n",
        "  pad_x = calculate_padding_single_dim(x, x, kernel_size)\n",
        "  p_img = np.pad(img, [pad_y, pad_x]) # Padded Image\n",
        "\n",
        "  for i in range(new_img.shape[0]):\n",
        "    for j in range(new_img.shape[1]):\n",
        "      new_img[i, j] = np.median(p_img [i:i + kernel_size ,j:j + kernel_size])\n",
        "  return new_img"
      ],
      "execution_count": 8,
      "outputs": []
    },
    {
      "cell_type": "markdown",
      "metadata": {
        "id": "OLnPXMsbt6Up"
      },
      "source": [
        "##### **Sharpening**"
      ]
    },
    {
      "cell_type": "code",
      "metadata": {
        "id": "c1V82YjYugqS"
      },
      "source": [
        "def sharp_img(img, kernel=laplacian):\n",
        "  sharpened_img = convolve2d(img, kernel) # img convolation with matrix\n",
        "  return np.abs(sharpened_img) # values are positive"
      ],
      "execution_count": 9,
      "outputs": []
    },
    {
      "cell_type": "markdown",
      "metadata": {
        "id": "_6i8Ofjct6gC"
      },
      "source": [
        "##### **Rotation**"
      ]
    },
    {
      "cell_type": "code",
      "metadata": {
        "id": "EZJJvTWkSEXu"
      },
      "source": [
        "def rotate(img: np.ndarray, angle: int):\n",
        "  h, w = img.shape[0], img.shape[1]\n",
        "  res_img = np.zeros(img.shape) # New image creation\n",
        "  # Angle's calculations\n",
        "  angle = np.deg2rad(angle)\n",
        "  cos_a = np.cos(angle)\n",
        "  sin_a = np.sin(angle)\n",
        "  # Image's center\n",
        "  midY = round(((h + 1) / 2) - 1)\n",
        "  midX = round(((w + 1) / 2) - 1)\n",
        "  # Result's center\n",
        "  yCenter = round((midY * cos_a) - (midX * sin_a))\n",
        "  xCenter = round((midY * sin_a) + (midX * cos_a))\n",
        "\n",
        "  for y in range(h):\n",
        "    for x in range(w):\n",
        "      nX = round((y * sin_a) + (x * cos_a)) - xCenter + midX\n",
        "      nY = round((y * cos_a) - (x * sin_a)) - yCenter + midY\n",
        "      if (w > nX and (nX > 0)) and (h > nY and (nY > 0)):\n",
        "        res_img[nY ,nX] = img[y ,x]\n",
        "  \n",
        "  return res_img.astype(np.uint8)"
      ],
      "execution_count": 10,
      "outputs": []
    },
    {
      "cell_type": "markdown",
      "metadata": {
        "id": "3Hpkin3Fc4ch"
      },
      "source": [
        "#### **Augmentations**\n",
        "\n",
        "After choosing our filters, we used some of them together with different variables, and created some augmentations.\n",
        "\n",
        "Those are the chosen augmentations:\n",
        "\n",
        "\n",
        "| Agmnt \t| Gaussian-Blur  \t| Median-Blur \t| Sharpening \t| Rotate \t|\n",
        "|--------\t|----------------\t|-------------\t|------------\t|--------\t|\n",
        "| **1**  \t| k=3 , sig=0.5  \t| x           \t| x          \t| x      \t|\n",
        "| **2**  \t| x              \t| k=3         \t| x          \t| x      \t|\n",
        "| **3**  \t| x              \t| x           \t| x          \t| 15     \t|\n",
        "| **4**  \t| x              \t| x           \t| laplacian  \t| x      \t|\n",
        "| **5**  \t| k=3 , sig=0.9  \t| k=3         \t| sobelX      | 10     \t|\n",
        "| **6**  \t| k=3 , sig=0.6  \t| k=5         \t| sobelY      | 13     \t|\n",
        "| **7**  \t| k=5 , sig=0.8  \t| x           \t| x         \t| x     \t|\n",
        "| **8**  \t| k=3 , sig=0.7  \t| x           \t| x         \t| -5    \t|\n",
        "| **9**  \t| k=5 , sig=0.6  \t| k=3         \t| laplacian   | 30     \t|\n",
        "| **10** \t| k=3 , sig=0.6  \t| k=7         \t| sobelX     \t| x     \t|\n",
        "| **11** \t| x              \t| k=5         \t| sobelY     \t| 12     \t|\n",
        "| **12** \t| x             \t| k=3         \t| laplacian  \t| -10    \t|\n",
        "| **13** \t| x              \t| k=3         \t| sobelX     \t| 20     \t|\n",
        "| **14** \t| k=3 , sig=0.75 \t| x           \t| sobelY     \t| 10     \t|\n",
        "| **15** \t| x             \t| x           \t| laplacian  \t| -10    \t|\n",
        "\n"
      ]
    },
    {
      "cell_type": "markdown",
      "metadata": {
        "id": "SYRwWqWj009F"
      },
      "source": [
        "##### **Creating Augmentations**"
      ]
    },
    {
      "cell_type": "code",
      "metadata": {
        "id": "PLYyDKfY21eL"
      },
      "source": [
        "# Creates Augmentation by filter's variables\n",
        "def agmnt_img(img, gaus_k=0, gaus_sig=0, med=0, shrp=0, rot=0):\n",
        "  n_img = img\n",
        "  if gaus_k != 0:\n",
        "    n_img = gaussian_blur(n_img, gaus_k, gaus_sig)\n",
        "  if med != 0:\n",
        "    n_img = median_blur(n_img, med)\n",
        "  if shrp != 0:\n",
        "    if shrp == 'sx':\n",
        "      n_img = sharp_img(n_img, kernel=sobelX)\n",
        "    elif shrp == 'sy':\n",
        "      n_img = sharp_img(n_img, kernel=sobelX)\n",
        "    else:\n",
        "      n_img = sharp_img(n_img)\n",
        "  if rot != 0 : \n",
        "    n_img = rotate(n_img, rot)\n",
        "  return n_img"
      ],
      "execution_count": 11,
      "outputs": []
    },
    {
      "cell_type": "code",
      "metadata": {
        "id": "KpFu95F9zfzO"
      },
      "source": [
        "# Every chosen image will be sampled by the following augmentations\n",
        "def img_sampling(img):\n",
        "  agm_imgs = []\n",
        "  \n",
        "  # 1st filter\n",
        "  agm_imgs.append(agmnt_img(img, gaus_k=3, gaus_sig=0.5))\n",
        "  # 2nd filter\n",
        "  agm_imgs.append(agmnt_img(img, med=3))\n",
        "  # 3rd filter\n",
        "  agm_imgs.append(agmnt_img(img, rot=15))\n",
        "  # 4th filter\n",
        "  agm_imgs.append(agmnt_img(img, shrp='lp'))\n",
        "  # 5th filter\n",
        "  agm_imgs.append(agmnt_img(img, gaus_k=3, gaus_sig=0.9, med=3 ,shrp='sx', rot=10))\n",
        "  # 6th filter\n",
        "  agm_imgs.append(agmnt_img(img, gaus_k=3, gaus_sig=0.6, med=5 ,shrp='sy', rot=13))\n",
        "  # 7th filter\n",
        "  agm_imgs.append(agmnt_img(img, gaus_k=5, gaus_sig=0.8))\n",
        "  # 8th filter\n",
        "  agm_imgs.append(agmnt_img(img, gaus_k=3, gaus_sig=0.7, rot=-5))\n",
        "  # 9th filter\n",
        "  agm_imgs.append(agmnt_img(img, gaus_k=5, gaus_sig=0.6, med=3, shrp='lp'))\n",
        "  # 10th filter\n",
        "  agm_imgs.append(agmnt_img(img, gaus_k=3, gaus_sig=0.6, med=7, shrp='sx'))\n",
        "  # 11th filter\n",
        "  agm_imgs.append(agmnt_img(img, med=5, shrp='sy', rot=12))\n",
        "  # 12th filter\n",
        "  agm_imgs.append(agmnt_img(img, med=3, shrp='lp', rot=-10))\n",
        "  # 13th filter\n",
        "  agm_imgs.append(agmnt_img(img, med=3, shrp='sx', rot=20))\n",
        "  # 14th filter\n",
        "  agm_imgs.append(agmnt_img(img, gaus_k=3, gaus_sig=0.75, shrp='sy', rot=10))\n",
        "  # 15th filter\n",
        "  agm_imgs.append(agmnt_img(img, shrp='lp', rot=-10))\n",
        "\n",
        "  return agm_imgs # Returns all augmentations"
      ],
      "execution_count": 12,
      "outputs": []
    },
    {
      "cell_type": "markdown",
      "metadata": {
        "id": "c_mUwi2v09a9"
      },
      "source": [
        "##### **Create Dictionay**\n",
        "Will help us when we create the classes"
      ]
    },
    {
      "cell_type": "code",
      "metadata": {
        "id": "IHwnmzo5U_NO"
      },
      "source": [
        "# split MNIST dataset to dictionary by values\n",
        "def digits_dictionary(x_train, y_train):\n",
        "  d_digits = {i : [] for i in range(10)}\n",
        "  for i in range(len(y_train)):\n",
        "    pos = y_train[i]\n",
        "    d_digits[pos].append(x_train[i])\n",
        "  return d_digits"
      ],
      "execution_count": 13,
      "outputs": []
    },
    {
      "cell_type": "markdown",
      "metadata": {
        "id": "83iGjfiA1kTV"
      },
      "source": [
        "##### **Sampeling & Class Creation**"
      ]
    },
    {
      "cell_type": "code",
      "metadata": {
        "id": "b_S_iEUC1j9t"
      },
      "source": [
        "# Will return 267*16 (=4272) samples (include the \"originals\") for each class\n",
        "def sampling(imgs): \n",
        "  samples = []\n",
        "  samples = imgs\n",
        "  for img in imgs:\n",
        "    samples = samples + img_sampling(img)\n",
        "  return samples"
      ],
      "execution_count": 14,
      "outputs": []
    },
    {
      "cell_type": "code",
      "metadata": {
        "id": "QrwM7k4Z2p4F"
      },
      "source": [
        "# Creates class of 3digits number, will return array of tuples(img and target)\n",
        "def create_3digit_class(dct, hnd_d, ten_d, sgl_d):\n",
        "  # 4000 examples // 15 filters = 267 examples\n",
        "  imgs = [] # images list\n",
        "  label = hnd_d*100 + ten_d*10 + sgl_d\n",
        "  # Image creation\n",
        "  for i in range(4000):\n",
        "    # print(hnd_d, ten_d, sgl_d)\n",
        "    idx1, idx2, idx3 = random.randint(0, len(dct[hnd_d])-1), random.randint(0, len(dct[ten_d])-1), random.randint(0, len(dct[sgl_d])-1)\n",
        "    n3_img, n3_target = number_3dig([dct[hnd_d][idx1], dct[ten_d][idx2], dct[sgl_d][idx3]], [hnd_d, ten_d, sgl_d])\n",
        "    imgs.append((n3_img, label))\n",
        "  return imgs\n",
        "\n",
        "def create_digits_calsses(dct):\n",
        "  nw_cls = []\n",
        "  for i in range(100):\n",
        "    sgl_d = int(i/10)\n",
        "    ten_d = int(int(i/10) %10)\n",
        "    hnd_d = int(i/100)\n",
        "    nw_cls.append(create_3digit_class(dct, hnd_d, ten_d, sgl_d))\n",
        "  return nw_cls"
      ],
      "execution_count": 15,
      "outputs": []
    },
    {
      "cell_type": "markdown",
      "metadata": {
        "id": "bvDmEqf23-PT"
      },
      "source": [
        "#### **Final Classes**"
      ]
    },
    {
      "cell_type": "code",
      "metadata": {
        "id": "TvAn9TbW4hcZ"
      },
      "source": [
        "def print_num(dct, new_cls):\n",
        "  num = random.randint(0,100)\n",
        "  print(new_cls[num][5][1]) \n",
        "  plt.imshow(new_cls[num][5][0])\n",
        "  plt.show()"
      ],
      "execution_count": 16,
      "outputs": []
    },
    {
      "cell_type": "markdown",
      "metadata": {
        "id": "R4y2ONEL4etz"
      },
      "source": [
        "##### Printing Random Results"
      ]
    },
    {
      "cell_type": "code",
      "metadata": {
        "colab": {
          "base_uri": "https://localhost:8080/",
          "height": 0
        },
        "id": "3W9ZCHvuYlbQ",
        "outputId": "9a49ae3d-835c-4f24-c1d1-52642364d3a6"
      },
      "source": [
        "dct = digits_dictionary(x_train, y_train)\n",
        "new_cls = create_digits_calsses(dct)\n",
        "for _ in range(10):\n",
        "  print_num(dct, new_cls)"
      ],
      "execution_count": 17,
      "outputs": [
        {
          "output_type": "stream",
          "text": [
            "55\n"
          ],
          "name": "stdout"
        },
        {
          "output_type": "display_data",
          "data": {
            "image/png": "[encoded data removed]",
            "text/plain": [
              "<Figure size 432x288 with 1 Axes>"
            ]
          },
          "metadata": {
            "tags": [],
            "needs_background": "light"
          }
        },
        {
          "output_type": "stream",
          "text": [
            "55\n"
          ],
          "name": "stdout"
        },
        {
          "output_type": "display_data",
          "data": {
            "image/png": "[encoded data removed]",
            "text/plain": [
              "<Figure size 432x288 with 1 Axes>"
            ]
          },
          "metadata": {
            "tags": [],
            "needs_background": "light"
          }
        },
        {
          "output_type": "stream",
          "text": [
            "0\n"
          ],
          "name": "stdout"
        },
        {
          "output_type": "display_data",
          "data": {
            "image/png": "[encoded data removed]",
            "text/plain": [
              "<Figure size 432x288 with 1 Axes>"
            ]
          },
          "metadata": {
            "tags": [],
            "needs_background": "light"
          }
        },
        {
          "output_type": "stream",
          "text": [
            "11\n"
          ],
          "name": "stdout"
        },
        {
          "output_type": "display_data",
          "data": {
            "image/png": "[encoded data removed]",
            "text/plain": [
              "<Figure size 432x288 with 1 Axes>"
            ]
          },
          "metadata": {
            "tags": [],
            "needs_background": "light"
          }
        },
        {
          "output_type": "stream",
          "text": [
            "66\n"
          ],
          "name": "stdout"
        },
        {
          "output_type": "display_data",
          "data": {
            "image/png": "[encoded data removed]",
            "text/plain": [
              "<Figure size 432x288 with 1 Axes>"
            ]
          },
          "metadata": {
            "tags": [],
            "needs_background": "light"
          }
        },
        {
          "output_type": "stream",
          "text": [
            "55\n"
          ],
          "name": "stdout"
        },
        {
          "output_type": "display_data",
          "data": {
            "image/png": "[encoded data removed]",
            "text/plain": [
              "<Figure size 432x288 with 1 Axes>"
            ]
          },
          "metadata": {
            "tags": [],
            "needs_background": "light"
          }
        },
        {
          "output_type": "stream",
          "text": [
            "0\n"
          ],
          "name": "stdout"
        },
        {
          "output_type": "display_data",
          "data": {
            "image/png": "[encoded data removed]",
            "text/plain": [
              "<Figure size 432x288 with 1 Axes>"
            ]
          },
          "metadata": {
            "tags": [],
            "needs_background": "light"
          }
        },
        {
          "output_type": "stream",
          "text": [
            "99\n"
          ],
          "name": "stdout"
        },
        {
          "output_type": "display_data",
          "data": {
            "image/png": "[encoded data removed]",
            "text/plain": [
              "<Figure size 432x288 with 1 Axes>"
            ]
          },
          "metadata": {
            "tags": [],
            "needs_background": "light"
          }
        },
        {
          "output_type": "stream",
          "text": [
            "22\n"
          ],
          "name": "stdout"
        },
        {
          "output_type": "display_data",
          "data": {
            "image/png": "[encoded data removed]",
            "text/plain": [
              "<Figure size 432x288 with 1 Axes>"
            ]
          },
          "metadata": {
            "tags": [],
            "needs_background": "light"
          }
        },
        {
          "output_type": "stream",
          "text": [
            "11\n"
          ],
          "name": "stdout"
        },
        {
          "output_type": "display_data",
          "data": {
            "image/png": "[encoded data removed]",
            "text/plain": [
              "<Figure size 432x288 with 1 Axes>"
            ]
          },
          "metadata": {
            "tags": [],
            "needs_background": "light"
          }
        }
      ]
    },
    {
      "cell_type": "code",
      "metadata": {
        "id": "MXXML1K_fTaD"
      },
      "source": [
        "def print_num_fixed(num):\n",
        "  plt.imshow(num)\n",
        "  plt.show()"
      ],
      "execution_count": 18,
      "outputs": []
    },
    {
      "cell_type": "markdown",
      "metadata": {
        "id": "2lt_IwXONVR1"
      },
      "source": [
        "Use the augmentations you created on lab 3 on your new dataset and show some results and\n",
        "explain which augmentations are applicable to this specific dataset, which are not and why"
      ]
    },
    {
      "cell_type": "code",
      "metadata": {
        "id": "fX27ACcQODPg",
        "colab": {
          "base_uri": "https://localhost:8080/",
          "height": 0
        },
        "outputId": "916669f3-88e7-47a1-9a47-2726099e0088"
      },
      "source": [
        "imgs = [new_cls[99][5][0]]\n",
        "num = random.randint(0,100)\n",
        "s_img = sampling(imgs) # Creating all samples\n",
        "\n",
        "for num in s_img:\n",
        "  print('99')\n",
        "  print_num_fixed(num)"
      ],
      "execution_count": 19,
      "outputs": [
        {
          "output_type": "stream",
          "text": [
            "99\n"
          ],
          "name": "stdout"
        },
        {
          "output_type": "display_data",
          "data": {
            "image/png": "[encoded data removed]",
            "text/plain": [
              "<Figure size 432x288 with 1 Axes>"
            ]
          },
          "metadata": {
            "tags": [],
            "needs_background": "light"
          }
        },
        {
          "output_type": "stream",
          "text": [
            "99\n"
          ],
          "name": "stdout"
        },
        {
          "output_type": "display_data",
          "data": {
            "image/png": "[encoded data removed]",
            "text/plain": [
              "<Figure size 432x288 with 1 Axes>"
            ]
          },
          "metadata": {
            "tags": [],
            "needs_background": "light"
          }
        },
        {
          "output_type": "stream",
          "text": [
            "99\n"
          ],
          "name": "stdout"
        },
        {
          "output_type": "display_data",
          "data": {
            "image/png": "[encoded data removed]",
            "text/plain": [
              "<Figure size 432x288 with 1 Axes>"
            ]
          },
          "metadata": {
            "tags": [],
            "needs_background": "light"
          }
        },
        {
          "output_type": "stream",
          "text": [
            "99\n"
          ],
          "name": "stdout"
        },
        {
          "output_type": "display_data",
          "data": {
            "image/png": "[encoded data removed]",
            "text/plain": [
              "<Figure size 432x288 with 1 Axes>"
            ]
          },
          "metadata": {
            "tags": [],
            "needs_background": "light"
          }
        },
        {
          "output_type": "stream",
          "text": [
            "99\n"
          ],
          "name": "stdout"
        },
        {
          "output_type": "display_data",
          "data": {
            "image/png": "[encoded data removed]",
            "text/plain": [
              "<Figure size 432x288 with 1 Axes>"
            ]
          },
          "metadata": {
            "tags": [],
            "needs_background": "light"
          }
        },
        {
          "output_type": "stream",
          "text": [
            "99\n"
          ],
          "name": "stdout"
        },
        {
          "output_type": "display_data",
          "data": {
            "image/png": "[encoded data removed]",
            "text/plain": [
              "<Figure size 432x288 with 1 Axes>"
            ]
          },
          "metadata": {
            "tags": [],
            "needs_background": "light"
          }
        },
        {
          "output_type": "stream",
          "text": [
            "99\n"
          ],
          "name": "stdout"
        },
        {
          "output_type": "display_data",
          "data": {
            "image/png": "[encoded data removed]",
            "text/plain": [
              "<Figure size 432x288 with 1 Axes>"
            ]
          },
          "metadata": {
            "tags": [],
            "needs_background": "light"
          }
        },
        {
          "output_type": "stream",
          "text": [
            "99\n"
          ],
          "name": "stdout"
        },
        {
          "output_type": "display_data",
          "data": {
            "image/png": "[encoded data removed]",
            "text/plain": [
              "<Figure size 432x288 with 1 Axes>"
            ]
          },
          "metadata": {
            "tags": [],
            "needs_background": "light"
          }
        },
        {
          "output_type": "stream",
          "text": [
            "99\n"
          ],
          "name": "stdout"
        },
        {
          "output_type": "display_data",
          "data": {
            "image/png": "[encoded data removed]",
            "text/plain": [
              "<Figure size 432x288 with 1 Axes>"
            ]
          },
          "metadata": {
            "tags": [],
            "needs_background": "light"
          }
        },
        {
          "output_type": "stream",
          "text": [
            "99\n"
          ],
          "name": "stdout"
        },
        {
          "output_type": "display_data",
          "data": {
            "image/png": "[encoded data removed]",
            "text/plain": [
              "<Figure size 432x288 with 1 Axes>"
            ]
          },
          "metadata": {
            "tags": [],
            "needs_background": "light"
          }
        },
        {
          "output_type": "stream",
          "text": [
            "99\n"
          ],
          "name": "stdout"
        },
        {
          "output_type": "display_data",
          "data": {
            "image/png": "[encoded data removed]",
            "text/plain": [
              "<Figure size 432x288 with 1 Axes>"
            ]
          },
          "metadata": {
            "tags": [],
            "needs_background": "light"
          }
        },
        {
          "output_type": "stream",
          "text": [
            "99\n"
          ],
          "name": "stdout"
        },
        {
          "output_type": "display_data",
          "data": {
            "image/png": "[encoded data removed]",
            "text/plain": [
              "<Figure size 432x288 with 1 Axes>"
            ]
          },
          "metadata": {
            "tags": [],
            "needs_background": "light"
          }
        },
        {
          "output_type": "stream",
          "text": [
            "99\n"
          ],
          "name": "stdout"
        },
        {
          "output_type": "display_data",
          "data": {
            "image/png": "[encoded data removed]",
            "text/plain": [
              "<Figure size 432x288 with 1 Axes>"
            ]
          },
          "metadata": {
            "tags": [],
            "needs_background": "light"
          }
        },
        {
          "output_type": "stream",
          "text": [
            "99\n"
          ],
          "name": "stdout"
        },
        {
          "output_type": "display_data",
          "data": {
            "image/png": "[encoded data removed]",
            "text/plain": [
              "<Figure size 432x288 with 1 Axes>"
            ]
          },
          "metadata": {
            "tags": [],
            "needs_background": "light"
          }
        },
        {
          "output_type": "stream",
          "text": [
            "99\n"
          ],
          "name": "stdout"
        },
        {
          "output_type": "display_data",
          "data": {
            "image/png": "[encoded data removed]",
            "text/plain": [
              "<Figure size 432x288 with 1 Axes>"
            ]
          },
          "metadata": {
            "tags": [],
            "needs_background": "light"
          }
        },
        {
          "output_type": "stream",
          "text": [
            "99\n"
          ],
          "name": "stdout"
        },
        {
          "output_type": "display_data",
          "data": {
            "image/png": "[encoded data removed]",
            "text/plain": [
              "<Figure size 432x288 with 1 Axes>"
            ]
          },
          "metadata": {
            "tags": [],
            "needs_background": "light"
          }
        }
      ]
    },
    {
      "cell_type": "markdown",
      "metadata": {
        "id": "ekg7LI6SLu_6"
      },
      "source": [
        "## **Task \\#2: Shapes Dataset**"
      ]
    },
    {
      "cell_type": "markdown",
      "metadata": {
        "id": "U9eDXRNf5j3P"
      },
      "source": [
        "#### **Constants**"
      ]
    },
    {
      "cell_type": "code",
      "metadata": {
        "id": "Yj7m1uogt_HP"
      },
      "source": [
        "MIN_AREA = 100  # pixels\n",
        "MAX_AREA = 600  # pixels\n",
        "IMG_DIM = (50, 50, 3)"
      ],
      "execution_count": 20,
      "outputs": []
    },
    {
      "cell_type": "markdown",
      "metadata": {
        "id": "a1khSeGF5jz4"
      },
      "source": [
        "### **Shapes**"
      ]
    },
    {
      "cell_type": "markdown",
      "metadata": {
        "id": "BcdWBDThM5AQ"
      },
      "source": [
        "#### **Shape Class**\n",
        "All three shapes will be implemented by it"
      ]
    },
    {
      "cell_type": "code",
      "metadata": {
        "id": "ZQbbYN9EM4n4"
      },
      "source": [
        "class Shape:\n",
        "  def __init__(self, size, location, oriantation, color):\n",
        "    self.sp_size = size\n",
        "    self.sp_location = location\n",
        "    self.sp_oriantation = oriantation\n",
        "    self.sp_color = color\n",
        "\n",
        "  # Function for inherets.\n",
        "  def create_image(self): # Will return the image\n",
        "    pass"
      ],
      "execution_count": 21,
      "outputs": []
    },
    {
      "cell_type": "markdown",
      "metadata": {
        "id": "KfehYjIc6IWi"
      },
      "source": [
        "#### **Triangle**"
      ]
    },
    {
      "cell_type": "code",
      "metadata": {
        "id": "gTqSc34bWvZP"
      },
      "source": [
        "# Triangle --> size: [p1, p2, p3], location + oriantation: irrelevant\n",
        "class Triangle(Shape): # We Will calculate by given 3 vertexs\n",
        "  def __init__(self):\n",
        "    area = 0\n",
        "    while area < 100 or area > 600:\n",
        "      p1_x = random.randint(0,50)\n",
        "      p1_y = random.randint(0,50)\n",
        "      p2_x = random.randint(0,50)\n",
        "      p2_y = random.randint(0,50)\n",
        "      p3_x = random.randint(0,50)\n",
        "      p3_y = random.randint(0,50)\n",
        "      area = 0.5 * (p1_x * (p2_y - p3_y) + p2_x * (p3_y - p1_y) + p3_x * (p1_y - p2_y)) \n",
        "    pts = np.array(([p1_x, p1_y],[p2_x, p2_y],[p3_x,   p3_y]),np.int32)\n",
        "    pts = [pts.reshape((-1,1,2))]\n",
        "    r, g, b = random.randint(0, 255), random.randint(0, 255), random.randint(0, 255)\n",
        "    oriantation = random.randint(0, 360)\n",
        "    super().__init__(pts, 0, oriantation, color=(r, g, b))\n",
        "  \n",
        "  def create_image(self):\n",
        "    img = np.zeros((IMG_DIM[0], IMG_DIM[1]), np.int32)\n",
        "    traingle = cv2.polylines(img, self.sp_size, True , self.sp_color, 1)\n",
        "    return rotate(cv2.fillPoly(img, pts=self.sp_size, color=self.sp_color), self.sp_oriantation)"
      ],
      "execution_count": 22,
      "outputs": []
    },
    {
      "cell_type": "markdown",
      "metadata": {
        "id": "KgwTOOCYFfd-"
      },
      "source": [
        "##### Triangle building try:"
      ]
    },
    {
      "cell_type": "code",
      "metadata": {
        "colab": {
          "base_uri": "https://localhost:8080/",
          "height": 0
        },
        "id": "8G-9axztFeV5",
        "outputId": "720d6428-12d3-41f0-a108-f164bb12563d"
      },
      "source": [
        "fig = plt.figure(figsize=(3, 3))\n",
        "t = Triangle()\n",
        "plt.imshow(t.create_image())"
      ],
      "execution_count": 23,
      "outputs": [
        {
          "output_type": "execute_result",
          "data": {
            "text/plain": [
              "<matplotlib.image.AxesImage at 0x7f2582a167d0>"
            ]
          },
          "metadata": {
            "tags": []
          },
          "execution_count": 23
        },
        {
          "output_type": "display_data",
          "data": {
            "image/png": "[encoded data removed]",
            "text/plain": [
              "<Figure size 216x216 with 1 Axes>"
            ]
          },
          "metadata": {
            "tags": [],
            "needs_background": "light"
          }
        }
      ]
    },
    {
      "cell_type": "markdown",
      "metadata": {
        "id": "tn_XX0mU6U9l"
      },
      "source": [
        "#### **Rectangle**"
      ]
    },
    {
      "cell_type": "code",
      "metadata": {
        "id": "vrj_8eyc4sY5"
      },
      "source": [
        "# Rctangle --> location [x_upper_left, y_upper_left], size (hight, width)\n",
        "class Rectangle(Shape): \n",
        "  def __init__(self):\n",
        "    h = random.randint(2, IMG_DIM[0]/2)\n",
        "    high = 50\n",
        "    h_s = 30\n",
        "    max_val =  int(math.sqrt((abs(high-h_s))))\n",
        "    if max_val > 49:\n",
        "      max_val = 49 \n",
        "    min_val = 1\n",
        "    w = random.randint(min_val, max_val)\n",
        "    oriantation = random.randint(0, 360)\n",
        "    distance = int(math.sqrt(math.pow(h, 2) + math.pow(w, 2)))\n",
        "    pos_x = random.randint(distance, IMG_DIM[0]-distance)\n",
        "    pos_y = random.randint(distance, IMG_DIM[1]-distance)\n",
        "    pos1 = (pos_x, pos_y)\n",
        "    pos2 = (pos_x + w, pos_y+h)\n",
        "    pos = (pos1,pos2)\n",
        "    r, g, b = random.randint(0, 255), random.randint(0, 255), random.randint(0, 255)\n",
        "    super().__init__(h*w, pos, oriantation, color=(r, g, b))\n",
        "\n",
        "  def create_image(self):\n",
        "    img = np.zeros((IMG_DIM[0], IMG_DIM[1]), np.uint8)\n",
        "    cv2.rectangle(img, self.sp_location[0], self.sp_location[1] , self.sp_color, -1)\n",
        "    return rotate(img, self.sp_oriantation)"
      ],
      "execution_count": 24,
      "outputs": []
    },
    {
      "cell_type": "markdown",
      "metadata": {
        "id": "ItVCEGZL6sRH"
      },
      "source": [
        "##### Rectangle building try:"
      ]
    },
    {
      "cell_type": "code",
      "metadata": {
        "colab": {
          "base_uri": "https://localhost:8080/",
          "height": 0
        },
        "id": "uu1WnIVU9Gho",
        "outputId": "24957dd3-292d-421a-cd8d-e5b2f67949b8"
      },
      "source": [
        "fig = plt.figure(figsize=(3, 3))\n",
        "r = Rectangle()\n",
        "plt.imshow(r.create_image())"
      ],
      "execution_count": 25,
      "outputs": [
        {
          "output_type": "execute_result",
          "data": {
            "text/plain": [
              "<matplotlib.image.AxesImage at 0x7f2582f3d850>"
            ]
          },
          "metadata": {
            "tags": []
          },
          "execution_count": 25
        },
        {
          "output_type": "display_data",
          "data": {
            "image/png": "[encoded data removed]",
            "text/plain": [
              "<Figure size 216x216 with 1 Axes>"
            ]
          },
          "metadata": {
            "tags": [],
            "needs_background": "light"
          }
        }
      ]
    },
    {
      "cell_type": "markdown",
      "metadata": {
        "id": "ahOxSSlj6dBG"
      },
      "source": [
        "#### **Circle**"
      ]
    },
    {
      "cell_type": "code",
      "metadata": {
        "id": "vv2t_PFpW4JU"
      },
      "source": [
        "# Circle --> size: (int) radious , location: ([int, int]) center \n",
        "class Circle(Shape): \n",
        "  \n",
        "  def __init__(self):\n",
        "    # Min\\Max Radius\n",
        "    MIN_RADIUS = int(math.sqrt(int(MIN_AREA/math.pi)+1)) # 100 /2Pi = 16\n",
        "    MAX_RADIUS = int(math.sqrt(int(MAX_AREA /math.pi)-1)) # 600 / 2Pi = 95\n",
        "    \n",
        "    rds = random.randint(MIN_RADIUS, MAX_RADIUS)\n",
        "    pos_x = random.randint(rds+1, IMG_DIM[0] - (rds+1))\n",
        "    pos_y = random.randint(rds+1, IMG_DIM[1] - (rds+1))\n",
        "    pos = (pos_x, pos_y)\n",
        "    oriantation = random.randint(0, 360)\n",
        "    r, g, b = random.randint(0, 255), random.randint(0, 255), random.randint(0, 255)\n",
        "    super().__init__(rds, pos, oriantation, color=(r,g,b))\n",
        "\n",
        "  def create_image(self):\n",
        "    img = np.zeros((IMG_DIM[0], IMG_DIM[1]), np.uint8)\n",
        "    return cv2.circle(img, self.sp_location, self.sp_size, self.sp_color, -1)"
      ],
      "execution_count": 26,
      "outputs": []
    },
    {
      "cell_type": "markdown",
      "metadata": {
        "id": "ojT2AJeKGIvK"
      },
      "source": [
        "##### Circle building try:"
      ]
    },
    {
      "cell_type": "code",
      "metadata": {
        "colab": {
          "base_uri": "https://localhost:8080/",
          "height": 0
        },
        "id": "INvB8kaLGLtE",
        "outputId": "bd059d37-c378-4bf2-cc81-ceb7df2e1c88"
      },
      "source": [
        "fig = plt.figure(figsize=(3, 3))\n",
        "c = Circle()\n",
        "plt.imshow(c.create_image())"
      ],
      "execution_count": 27,
      "outputs": [
        {
          "output_type": "execute_result",
          "data": {
            "text/plain": [
              "<matplotlib.image.AxesImage at 0x7f2587727350>"
            ]
          },
          "metadata": {
            "tags": []
          },
          "execution_count": 27
        },
        {
          "output_type": "display_data",
          "data": {
            "image/png": "[encoded data removed]",
            "text/plain": [
              "<Figure size 216x216 with 1 Axes>"
            ]
          },
          "metadata": {
            "tags": [],
            "needs_background": "light"
          }
        }
      ]
    },
    {
      "cell_type": "markdown",
      "metadata": {
        "id": "OervJvwo7Poo"
      },
      "source": [
        "### **Create Dataset**"
      ]
    },
    {
      "cell_type": "code",
      "metadata": {
        "id": "f1tFEoPqLztn"
      },
      "source": [
        "def dataset_creation(shape): # { triangle: i = 0 , rectangle: i = 1, circle: i = 2}\n",
        "  s_data = []\n",
        "  for i in range(3):\n",
        "    for j in range(300):\n",
        "      if i == 0:\n",
        "        shp = Triangle()\n",
        "      elif i == 1: \n",
        "        shp = Rectangle()\n",
        "      else: # i = 2\n",
        "        shp = Circle()\n",
        "      s_data.append((shp.create_image(), str(type(shp).__name__)))\n",
        "  return s_data"
      ],
      "execution_count": 28,
      "outputs": []
    },
    {
      "cell_type": "markdown",
      "metadata": {
        "id": "D6DMs8DAGU1a"
      },
      "source": [
        "Load Data:"
      ]
    },
    {
      "cell_type": "code",
      "metadata": {
        "id": "nFxADEJlGUQN"
      },
      "source": [
        "class Data(Dataset):\n",
        "  def __init__(self):\n",
        "    self.len = 300\n",
        "  \n",
        "  def load_data(self):\n",
        "    items = list()\n",
        "    x_train, y_train = [], []\n",
        "    x_test, y_test = [], []\n",
        "    for i in range(300):\n",
        "      items.append((0, Triangle()))\n",
        "      items.append((1, Rectangle()))\n",
        "      items.append((2, Circle()))\n",
        "    random.shuffle(items)\n",
        "    l = int(len(items) * 0.9)\n",
        "    print(l)\n",
        "    train, test = items[:l], items[l:]\n",
        "    for y, x in train: \n",
        "      x_train.append(x)\n",
        "      y_train.append(y)\n",
        "    for y, x in test: \n",
        "      x_test.append(x)\n",
        "      y_test.append(y)\n",
        "    return (x_train, y_train), (x_test, y_test)"
      ],
      "execution_count": 29,
      "outputs": []
    },
    {
      "cell_type": "code",
      "metadata": {
        "colab": {
          "base_uri": "https://localhost:8080/"
        },
        "id": "mUUKviY7IZ44",
        "outputId": "701f26c0-ddb4-4b4f-9cba-8c3612a27a48"
      },
      "source": [
        "data = Data()\n",
        "(x_train, y_train), (x_test, y_test) = data.load_data()"
      ],
      "execution_count": 30,
      "outputs": [
        {
          "output_type": "stream",
          "text": [
            "810\n"
          ],
          "name": "stdout"
        }
      ]
    },
    {
      "cell_type": "markdown",
      "metadata": {
        "id": "L7mJU8nfiUvr"
      },
      "source": [
        "#### **Display from train**"
      ]
    },
    {
      "cell_type": "markdown",
      "metadata": {
        "id": "zfsBzhQgnDhK"
      },
      "source": [
        "##### Disply Triangle:"
      ]
    },
    {
      "cell_type": "code",
      "metadata": {
        "colab": {
          "base_uri": "https://localhost:8080/",
          "height": 0
        },
        "id": "ZmL6b8n-iJ0Y",
        "outputId": "1058328b-73fc-4817-acd3-2609d996d7d3"
      },
      "source": [
        "n = random.randint(0, 299)\n",
        "while(y_train[n]) != 0:\n",
        "  n = random.randint(0, 299)\n",
        "fig = plt.figure(figsize=(3, 3))\n",
        "plt.imshow(x_train[n].create_image())"
      ],
      "execution_count": 31,
      "outputs": [
        {
          "output_type": "execute_result",
          "data": {
            "text/plain": [
              "<matplotlib.image.AxesImage at 0x7f2587744590>"
            ]
          },
          "metadata": {
            "tags": []
          },
          "execution_count": 31
        },
        {
          "output_type": "display_data",
          "data": {
            "image/png": "[encoded data removed]",
            "text/plain": [
              "<Figure size 216x216 with 1 Axes>"
            ]
          },
          "metadata": {
            "tags": [],
            "needs_background": "light"
          }
        }
      ]
    },
    {
      "cell_type": "markdown",
      "metadata": {
        "id": "O0OB1pxdjAmz"
      },
      "source": [
        "##### Disply Rectangle:"
      ]
    },
    {
      "cell_type": "code",
      "metadata": {
        "colab": {
          "base_uri": "https://localhost:8080/",
          "height": 0
        },
        "id": "YLSzrOIEjEsX",
        "outputId": "9ccbd75d-28fd-46bb-85fd-2bbee064d295"
      },
      "source": [
        "n = random.randint(0, 299)\n",
        "while(y_train[n]) != 1:\n",
        "  n = random.randint(0, 299)\n",
        "fig = plt.figure(figsize=(3, 3))\n",
        "plt.imshow(x_train[n].create_image())"
      ],
      "execution_count": 32,
      "outputs": [
        {
          "output_type": "execute_result",
          "data": {
            "text/plain": [
              "<matplotlib.image.AxesImage at 0x7f2586e7c4d0>"
            ]
          },
          "metadata": {
            "tags": []
          },
          "execution_count": 32
        },
        {
          "output_type": "display_data",
          "data": {
            "image/png": "[encoded data removed]",
            "text/plain": [
              "<Figure size 216x216 with 1 Axes>"
            ]
          },
          "metadata": {
            "tags": [],
            "needs_background": "light"
          }
        }
      ]
    },
    {
      "cell_type": "markdown",
      "metadata": {
        "id": "2LnyXlbIjKln"
      },
      "source": [
        "##### Display circle"
      ]
    },
    {
      "cell_type": "code",
      "metadata": {
        "colab": {
          "base_uri": "https://localhost:8080/",
          "height": 0
        },
        "id": "03OGb6_vjNH4",
        "outputId": "85ada85b-775d-483d-f7e9-225b51b89666"
      },
      "source": [
        "n = random.randint(0, 299)\n",
        "while(y_train[n]) != 2:\n",
        "  n = random.randint(0, 299)\n",
        "fig = plt.figure(figsize=(3, 3))\n",
        "plt.imshow(x_train[n].create_image())"
      ],
      "execution_count": 33,
      "outputs": [
        {
          "output_type": "execute_result",
          "data": {
            "text/plain": [
              "<matplotlib.image.AxesImage at 0x7f2586e48390>"
            ]
          },
          "metadata": {
            "tags": []
          },
          "execution_count": 33
        },
        {
          "output_type": "display_data",
          "data": {
            "image/png": "[encoded data removed]",
            "text/plain": [
              "<Figure size 216x216 with 1 Axes>"
            ]
          },
          "metadata": {
            "tags": [],
            "needs_background": "light"
          }
        }
      ]
    },
    {
      "cell_type": "markdown",
      "metadata": {
        "id": "15mwIwPPnZkW"
      },
      "source": [
        "## **Summary**"
      ]
    },
    {
      "cell_type": "markdown",
      "metadata": {
        "id": "1y6ZhbmSiwgR"
      },
      "source": [
        "In this work, we studied to work with mnist data, and summation all the subjcets we studied from the start of the class.\n",
        "\n",
        "We used our filters, we've addited images and created new ones. Also, we created dataset from given datasets (and from scratch)"
      ]
    }
  ]
}